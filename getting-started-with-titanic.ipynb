{
 "cells": [
  {
   "cell_type": "markdown",
   "id": "sound-member",
   "metadata": {
    "papermill": {
     "duration": 0.009679,
     "end_time": "2021-05-16T21:28:55.053088",
     "exception": false,
     "start_time": "2021-05-16T21:28:55.043409",
     "status": "completed"
    },
    "tags": []
   },
   "source": [
    "# Getting started with Titanic\n",
    "## Kaggle Tutorial\n",
    "\n",
    "Let's begin with the default Kaggle notebook starting commands which will load the `numPy` and `pandas` packages and show a list of available files in the `kaggle/input/` folder."
   ]
  },
  {
   "cell_type": "code",
   "execution_count": 3,
   "id": "korean-constant",
   "metadata": {
    "_cell_guid": "1155a9a1-10fd-461c-9b49-bc3ab2d2195e",
    "_uuid": "c6c3454f-0bcb-44ff-9e54-e4cbbb80e2dd",
    "execution": {
     "iopub.execute_input": "2021-05-16T21:28:55.077618Z",
     "iopub.status.busy": "2021-05-16T21:28:55.076682Z",
     "iopub.status.idle": "2021-05-16T21:28:55.083048Z",
     "shell.execute_reply": "2021-05-16T21:28:55.083541Z"
    },
    "jupyter": {
     "outputs_hidden": false
    },
    "papermill": {
     "duration": 0.022509,
     "end_time": "2021-05-16T21:28:55.083840",
     "exception": false,
     "start_time": "2021-05-16T21:28:55.061331",
     "status": "completed"
    },
    "tags": []
   },
   "outputs": [
    {
     "name": "stdout",
     "output_type": "stream",
     "text": [
      "data-in/test.csv\n",
      "data-in/train.csv\n"
     ]
    }
   ],
   "source": [
    "import numpy as np # linear algebra\n",
    "import pandas as pd # data processing\n",
    "\n",
    "import os\n",
    "for dirname, _, filenames in os.walk('data-in'):\n",
    "    for filename in filenames:\n",
    "        print(os.path.join(dirname, filename))"
   ]
  },
  {
   "cell_type": "markdown",
   "id": "capital-solution",
   "metadata": {
    "papermill": {
     "duration": 0.008209,
     "end_time": "2021-05-16T21:28:55.101217",
     "exception": false,
     "start_time": "2021-05-16T21:28:55.093008",
     "status": "completed"
    },
    "tags": []
   },
   "source": [
    "Now we can read the `train.csv` file into pandas and view the `head`."
   ]
  },
  {
   "cell_type": "code",
   "execution_count": 4,
   "id": "interpreted-canon",
   "metadata": {
    "execution": {
     "iopub.execute_input": "2021-05-16T21:28:55.123225Z",
     "iopub.status.busy": "2021-05-16T21:28:55.122541Z",
     "iopub.status.idle": "2021-05-16T21:28:55.172236Z",
     "shell.execute_reply": "2021-05-16T21:28:55.171691Z"
    },
    "papermill": {
     "duration": 0.062461,
     "end_time": "2021-05-16T21:28:55.172386",
     "exception": false,
     "start_time": "2021-05-16T21:28:55.109925",
     "status": "completed"
    },
    "tags": []
   },
   "outputs": [
    {
     "data": {
      "text/html": [
       "<div>\n",
       "<style scoped>\n",
       "    .dataframe tbody tr th:only-of-type {\n",
       "        vertical-align: middle;\n",
       "    }\n",
       "\n",
       "    .dataframe tbody tr th {\n",
       "        vertical-align: top;\n",
       "    }\n",
       "\n",
       "    .dataframe thead th {\n",
       "        text-align: right;\n",
       "    }\n",
       "</style>\n",
       "<table border=\"1\" class=\"dataframe\">\n",
       "  <thead>\n",
       "    <tr style=\"text-align: right;\">\n",
       "      <th></th>\n",
       "      <th>PassengerId</th>\n",
       "      <th>Survived</th>\n",
       "      <th>Pclass</th>\n",
       "      <th>Name</th>\n",
       "      <th>Sex</th>\n",
       "      <th>Age</th>\n",
       "      <th>SibSp</th>\n",
       "      <th>Parch</th>\n",
       "      <th>Ticket</th>\n",
       "      <th>Fare</th>\n",
       "      <th>Cabin</th>\n",
       "      <th>Embarked</th>\n",
       "    </tr>\n",
       "  </thead>\n",
       "  <tbody>\n",
       "    <tr>\n",
       "      <th>0</th>\n",
       "      <td>1</td>\n",
       "      <td>0</td>\n",
       "      <td>3</td>\n",
       "      <td>Braund, Mr. Owen Harris</td>\n",
       "      <td>male</td>\n",
       "      <td>22.0</td>\n",
       "      <td>1</td>\n",
       "      <td>0</td>\n",
       "      <td>A/5 21171</td>\n",
       "      <td>7.2500</td>\n",
       "      <td>NaN</td>\n",
       "      <td>S</td>\n",
       "    </tr>\n",
       "    <tr>\n",
       "      <th>1</th>\n",
       "      <td>2</td>\n",
       "      <td>1</td>\n",
       "      <td>1</td>\n",
       "      <td>Cumings, Mrs. John Bradley (Florence Briggs Th...</td>\n",
       "      <td>female</td>\n",
       "      <td>38.0</td>\n",
       "      <td>1</td>\n",
       "      <td>0</td>\n",
       "      <td>PC 17599</td>\n",
       "      <td>71.2833</td>\n",
       "      <td>C85</td>\n",
       "      <td>C</td>\n",
       "    </tr>\n",
       "    <tr>\n",
       "      <th>2</th>\n",
       "      <td>3</td>\n",
       "      <td>1</td>\n",
       "      <td>3</td>\n",
       "      <td>Heikkinen, Miss. Laina</td>\n",
       "      <td>female</td>\n",
       "      <td>26.0</td>\n",
       "      <td>0</td>\n",
       "      <td>0</td>\n",
       "      <td>STON/O2. 3101282</td>\n",
       "      <td>7.9250</td>\n",
       "      <td>NaN</td>\n",
       "      <td>S</td>\n",
       "    </tr>\n",
       "    <tr>\n",
       "      <th>3</th>\n",
       "      <td>4</td>\n",
       "      <td>1</td>\n",
       "      <td>1</td>\n",
       "      <td>Futrelle, Mrs. Jacques Heath (Lily May Peel)</td>\n",
       "      <td>female</td>\n",
       "      <td>35.0</td>\n",
       "      <td>1</td>\n",
       "      <td>0</td>\n",
       "      <td>113803</td>\n",
       "      <td>53.1000</td>\n",
       "      <td>C123</td>\n",
       "      <td>S</td>\n",
       "    </tr>\n",
       "    <tr>\n",
       "      <th>4</th>\n",
       "      <td>5</td>\n",
       "      <td>0</td>\n",
       "      <td>3</td>\n",
       "      <td>Allen, Mr. William Henry</td>\n",
       "      <td>male</td>\n",
       "      <td>35.0</td>\n",
       "      <td>0</td>\n",
       "      <td>0</td>\n",
       "      <td>373450</td>\n",
       "      <td>8.0500</td>\n",
       "      <td>NaN</td>\n",
       "      <td>S</td>\n",
       "    </tr>\n",
       "  </tbody>\n",
       "</table>\n",
       "</div>"
      ],
      "text/plain": [
       "   PassengerId  Survived  Pclass  \\\n",
       "0            1         0       3   \n",
       "1            2         1       1   \n",
       "2            3         1       3   \n",
       "3            4         1       1   \n",
       "4            5         0       3   \n",
       "\n",
       "                                                Name     Sex   Age  SibSp  \\\n",
       "0                            Braund, Mr. Owen Harris    male  22.0      1   \n",
       "1  Cumings, Mrs. John Bradley (Florence Briggs Th...  female  38.0      1   \n",
       "2                             Heikkinen, Miss. Laina  female  26.0      0   \n",
       "3       Futrelle, Mrs. Jacques Heath (Lily May Peel)  female  35.0      1   \n",
       "4                           Allen, Mr. William Henry    male  35.0      0   \n",
       "\n",
       "   Parch            Ticket     Fare Cabin Embarked  \n",
       "0      0         A/5 21171   7.2500   NaN        S  \n",
       "1      0          PC 17599  71.2833   C85        C  \n",
       "2      0  STON/O2. 3101282   7.9250   NaN        S  \n",
       "3      0            113803  53.1000  C123        S  \n",
       "4      0            373450   8.0500   NaN        S  "
      ]
     },
     "execution_count": 4,
     "metadata": {},
     "output_type": "execute_result"
    }
   ],
   "source": [
    "train_data = pd.read_csv(\"data-in/train.csv\")\n",
    "train_data.head()"
   ]
  },
  {
   "cell_type": "markdown",
   "id": "conventional-facility",
   "metadata": {
    "papermill": {
     "duration": 0.0091,
     "end_time": "2021-05-16T21:28:55.190999",
     "exception": false,
     "start_time": "2021-05-16T21:28:55.181899",
     "status": "completed"
    },
    "tags": []
   },
   "source": [
    "And do the same for the `test.csv` file."
   ]
  },
  {
   "cell_type": "code",
   "execution_count": 5,
   "id": "unusual-darkness",
   "metadata": {
    "execution": {
     "iopub.execute_input": "2021-05-16T21:28:55.214296Z",
     "iopub.status.busy": "2021-05-16T21:28:55.213670Z",
     "iopub.status.idle": "2021-05-16T21:28:55.238090Z",
     "shell.execute_reply": "2021-05-16T21:28:55.237514Z"
    },
    "papermill": {
     "duration": 0.03784,
     "end_time": "2021-05-16T21:28:55.238258",
     "exception": false,
     "start_time": "2021-05-16T21:28:55.200418",
     "status": "completed"
    },
    "tags": []
   },
   "outputs": [
    {
     "data": {
      "text/html": [
       "<div>\n",
       "<style scoped>\n",
       "    .dataframe tbody tr th:only-of-type {\n",
       "        vertical-align: middle;\n",
       "    }\n",
       "\n",
       "    .dataframe tbody tr th {\n",
       "        vertical-align: top;\n",
       "    }\n",
       "\n",
       "    .dataframe thead th {\n",
       "        text-align: right;\n",
       "    }\n",
       "</style>\n",
       "<table border=\"1\" class=\"dataframe\">\n",
       "  <thead>\n",
       "    <tr style=\"text-align: right;\">\n",
       "      <th></th>\n",
       "      <th>PassengerId</th>\n",
       "      <th>Pclass</th>\n",
       "      <th>Name</th>\n",
       "      <th>Sex</th>\n",
       "      <th>Age</th>\n",
       "      <th>SibSp</th>\n",
       "      <th>Parch</th>\n",
       "      <th>Ticket</th>\n",
       "      <th>Fare</th>\n",
       "      <th>Cabin</th>\n",
       "      <th>Embarked</th>\n",
       "    </tr>\n",
       "  </thead>\n",
       "  <tbody>\n",
       "    <tr>\n",
       "      <th>0</th>\n",
       "      <td>892</td>\n",
       "      <td>3</td>\n",
       "      <td>Kelly, Mr. James</td>\n",
       "      <td>male</td>\n",
       "      <td>34.5</td>\n",
       "      <td>0</td>\n",
       "      <td>0</td>\n",
       "      <td>330911</td>\n",
       "      <td>7.8292</td>\n",
       "      <td>NaN</td>\n",
       "      <td>Q</td>\n",
       "    </tr>\n",
       "    <tr>\n",
       "      <th>1</th>\n",
       "      <td>893</td>\n",
       "      <td>3</td>\n",
       "      <td>Wilkes, Mrs. James (Ellen Needs)</td>\n",
       "      <td>female</td>\n",
       "      <td>47.0</td>\n",
       "      <td>1</td>\n",
       "      <td>0</td>\n",
       "      <td>363272</td>\n",
       "      <td>7.0000</td>\n",
       "      <td>NaN</td>\n",
       "      <td>S</td>\n",
       "    </tr>\n",
       "    <tr>\n",
       "      <th>2</th>\n",
       "      <td>894</td>\n",
       "      <td>2</td>\n",
       "      <td>Myles, Mr. Thomas Francis</td>\n",
       "      <td>male</td>\n",
       "      <td>62.0</td>\n",
       "      <td>0</td>\n",
       "      <td>0</td>\n",
       "      <td>240276</td>\n",
       "      <td>9.6875</td>\n",
       "      <td>NaN</td>\n",
       "      <td>Q</td>\n",
       "    </tr>\n",
       "    <tr>\n",
       "      <th>3</th>\n",
       "      <td>895</td>\n",
       "      <td>3</td>\n",
       "      <td>Wirz, Mr. Albert</td>\n",
       "      <td>male</td>\n",
       "      <td>27.0</td>\n",
       "      <td>0</td>\n",
       "      <td>0</td>\n",
       "      <td>315154</td>\n",
       "      <td>8.6625</td>\n",
       "      <td>NaN</td>\n",
       "      <td>S</td>\n",
       "    </tr>\n",
       "    <tr>\n",
       "      <th>4</th>\n",
       "      <td>896</td>\n",
       "      <td>3</td>\n",
       "      <td>Hirvonen, Mrs. Alexander (Helga E Lindqvist)</td>\n",
       "      <td>female</td>\n",
       "      <td>22.0</td>\n",
       "      <td>1</td>\n",
       "      <td>1</td>\n",
       "      <td>3101298</td>\n",
       "      <td>12.2875</td>\n",
       "      <td>NaN</td>\n",
       "      <td>S</td>\n",
       "    </tr>\n",
       "  </tbody>\n",
       "</table>\n",
       "</div>"
      ],
      "text/plain": [
       "   PassengerId  Pclass                                          Name     Sex  \\\n",
       "0          892       3                              Kelly, Mr. James    male   \n",
       "1          893       3              Wilkes, Mrs. James (Ellen Needs)  female   \n",
       "2          894       2                     Myles, Mr. Thomas Francis    male   \n",
       "3          895       3                              Wirz, Mr. Albert    male   \n",
       "4          896       3  Hirvonen, Mrs. Alexander (Helga E Lindqvist)  female   \n",
       "\n",
       "    Age  SibSp  Parch   Ticket     Fare Cabin Embarked  \n",
       "0  34.5      0      0   330911   7.8292   NaN        Q  \n",
       "1  47.0      1      0   363272   7.0000   NaN        S  \n",
       "2  62.0      0      0   240276   9.6875   NaN        Q  \n",
       "3  27.0      0      0   315154   8.6625   NaN        S  \n",
       "4  22.0      1      1  3101298  12.2875   NaN        S  "
      ]
     },
     "execution_count": 5,
     "metadata": {},
     "output_type": "execute_result"
    }
   ],
   "source": [
    "test_data = pd.read_csv(\"data-in/test.csv\")\n",
    "test_data.head()"
   ]
  },
  {
   "cell_type": "markdown",
   "id": "british-ottawa",
   "metadata": {
    "papermill": {
     "duration": 0.009752,
     "end_time": "2021-05-16T21:28:55.258240",
     "exception": false,
     "start_time": "2021-05-16T21:28:55.248488",
     "status": "completed"
    },
    "tags": []
   },
   "source": [
    "## Improving our score\n",
    "Our goal is to find patterns in `train.csv` that help us predict whether the passengers in `test.csv` survived. We'll start simple.\n",
    "\n",
    "### Exploring a pattern\n",
    "Remember that the sample submission file in `submissions/gender_submission.csv` assumes that all female passengers survived (and all male passengers survived). Let's check if this pattern holds true in `train.csv`."
   ]
  },
  {
   "cell_type": "code",
   "execution_count": 6,
   "id": "adjacent-handling",
   "metadata": {
    "execution": {
     "iopub.execute_input": "2021-05-16T21:28:55.285792Z",
     "iopub.status.busy": "2021-05-16T21:28:55.285021Z",
     "iopub.status.idle": "2021-05-16T21:28:55.288611Z",
     "shell.execute_reply": "2021-05-16T21:28:55.289260Z"
    },
    "papermill": {
     "duration": 0.020854,
     "end_time": "2021-05-16T21:28:55.289482",
     "exception": false,
     "start_time": "2021-05-16T21:28:55.268628",
     "status": "completed"
    },
    "tags": []
   },
   "outputs": [
    {
     "name": "stdout",
     "output_type": "stream",
     "text": [
      "% of women who survived: 0.7420382165605095\n"
     ]
    }
   ],
   "source": [
    "women = train_data.loc[train_data.Sex == 'female']['Survived']\n",
    "rate_women = sum(women) / len(women)\n",
    "print('% of women who survived:', rate_women)"
   ]
  },
  {
   "cell_type": "markdown",
   "id": "earned-junction",
   "metadata": {
    "papermill": {
     "duration": 0.009919,
     "end_time": "2021-05-16T21:28:55.310847",
     "exception": false,
     "start_time": "2021-05-16T21:28:55.300928",
     "status": "completed"
    },
    "tags": []
   },
   "source": [
    "Let's see what proportion of male passengers survived."
   ]
  },
  {
   "cell_type": "code",
   "execution_count": 5,
   "id": "initial-worry",
   "metadata": {
    "execution": {
     "iopub.execute_input": "2021-05-16T21:28:55.334685Z",
     "iopub.status.busy": "2021-05-16T21:28:55.333984Z",
     "iopub.status.idle": "2021-05-16T21:28:55.340924Z",
     "shell.execute_reply": "2021-05-16T21:28:55.340425Z"
    },
    "papermill": {
     "duration": 0.019946,
     "end_time": "2021-05-16T21:28:55.341083",
     "exception": false,
     "start_time": "2021-05-16T21:28:55.321137",
     "status": "completed"
    },
    "tags": []
   },
   "outputs": [
    {
     "name": "stdout",
     "output_type": "stream",
     "text": [
      "% of men who survived: 0.18890814558058924\n"
     ]
    }
   ],
   "source": [
    "men = train_data.loc[train_data.Sex == 'male']['Survived']\n",
    "rate_men = sum(men) / len(men)\n",
    "print('% of men who survived:', rate_men)"
   ]
  },
  {
   "cell_type": "markdown",
   "id": "settled-louisiana",
   "metadata": {
    "papermill": {
     "duration": 0.010707,
     "end_time": "2021-05-16T21:28:55.364053",
     "exception": false,
     "start_time": "2021-05-16T21:28:55.353346",
     "status": "completed"
    },
    "tags": []
   },
   "source": [
    "From the data in `train.csv` we can see that almost 75% of women survived whereas only 19% of men survived. Gender does appear to be a fairly strong indicator of survival. However, the gender-based submission only considers one column. By considering multiple columns we can uncover more complex patterns that may potentially lead to better predictions. Doing this by hand is difficult, and this is where we can use machine learning to help.\n",
    "\n",
    "### Our first machine learning model\n",
    "We will build what is known as a **random forest model**. This model is constructed of several \"trees\" (there are three trees in the picture below but we will construct 100) that will individually consider each passenger's data and vote on whether that passenger survived. Then the random forest model makes a democratic decision: the outcome with the most votes wins.\n",
    "\n",
    "![](https://i.imgur.com/AC9Bq63.png)\n",
    "\n",
    "The code cell below looks for patterns in four different columns (`Pclass`, `Sex`, `SibSp`, and `Parch`) of the data. It constructs the trees in the random forest model based on patterns in the `train.csv` file, before generating predictions for the passengers in `test.csv`. The code also saves these new predictions in a CSV file `my_submission.csv`."
   ]
  },
  {
   "cell_type": "code",
   "execution_count": 8,
   "id": "athletic-clearing",
   "metadata": {
    "execution": {
     "iopub.execute_input": "2021-05-16T21:28:55.388905Z",
     "iopub.status.busy": "2021-05-16T21:28:55.388248Z",
     "iopub.status.idle": "2021-05-16T21:28:56.922284Z",
     "shell.execute_reply": "2021-05-16T21:28:56.921602Z"
    },
    "papermill": {
     "duration": 1.547613,
     "end_time": "2021-05-16T21:28:56.922451",
     "exception": false,
     "start_time": "2021-05-16T21:28:55.374838",
     "status": "completed"
    },
    "tags": []
   },
   "outputs": [
    {
     "name": "stdout",
     "output_type": "stream",
     "text": [
      "Your submission was successfully saved!\n"
     ]
    },
    {
     "data": {
      "text/html": [
       "<div>\n",
       "<style scoped>\n",
       "    .dataframe tbody tr th:only-of-type {\n",
       "        vertical-align: middle;\n",
       "    }\n",
       "\n",
       "    .dataframe tbody tr th {\n",
       "        vertical-align: top;\n",
       "    }\n",
       "\n",
       "    .dataframe thead th {\n",
       "        text-align: right;\n",
       "    }\n",
       "</style>\n",
       "<table border=\"1\" class=\"dataframe\">\n",
       "  <thead>\n",
       "    <tr style=\"text-align: right;\">\n",
       "      <th></th>\n",
       "      <th>PassengerId</th>\n",
       "      <th>Survived</th>\n",
       "    </tr>\n",
       "  </thead>\n",
       "  <tbody>\n",
       "    <tr>\n",
       "      <th>0</th>\n",
       "      <td>892</td>\n",
       "      <td>0</td>\n",
       "    </tr>\n",
       "    <tr>\n",
       "      <th>1</th>\n",
       "      <td>893</td>\n",
       "      <td>1</td>\n",
       "    </tr>\n",
       "    <tr>\n",
       "      <th>2</th>\n",
       "      <td>894</td>\n",
       "      <td>0</td>\n",
       "    </tr>\n",
       "    <tr>\n",
       "      <th>3</th>\n",
       "      <td>895</td>\n",
       "      <td>0</td>\n",
       "    </tr>\n",
       "    <tr>\n",
       "      <th>4</th>\n",
       "      <td>896</td>\n",
       "      <td>1</td>\n",
       "    </tr>\n",
       "  </tbody>\n",
       "</table>\n",
       "</div>"
      ],
      "text/plain": [
       "   PassengerId  Survived\n",
       "0          892         0\n",
       "1          893         1\n",
       "2          894         0\n",
       "3          895         0\n",
       "4          896         1"
      ]
     },
     "execution_count": 8,
     "metadata": {},
     "output_type": "execute_result"
    }
   ],
   "source": [
    "from sklearn.ensemble import RandomForestClassifier\n",
    "\n",
    "y = train_data[\"Survived\"]\n",
    "\n",
    "features = [\"Pclass\", \"Sex\", \"SibSp\", \"Parch\"]\n",
    "X = pd.get_dummies(train_data[features])\n",
    "X_test = pd.get_dummies(test_data[features])\n",
    "\n",
    "model = RandomForestClassifier(n_estimators=100, max_depth=5, random_state=1)\n",
    "model.fit(X, y)\n",
    "predictions = model.predict(X_test)\n",
    "\n",
    "output = pd.DataFrame({'PassengerId': test_data.PassengerId, 'Survived': predictions})\n",
    "output.to_csv('my_submission.csv', index=False)\n",
    "print(\"Your submission was successfully saved!\")\n",
    "output.head()"
   ]
  }
 ],
 "metadata": {
  "kernelspec": {
   "display_name": "Python 3",
   "language": "python",
   "name": "python3"
  },
  "language_info": {
   "codemirror_mode": {
    "name": "ipython",
    "version": 3
   },
   "file_extension": ".py",
   "mimetype": "text/x-python",
   "name": "python",
   "nbconvert_exporter": "python",
   "pygments_lexer": "ipython3",
   "version": "3.8.10"
  },
  "papermill": {
   "default_parameters": {},
   "duration": 8.517651,
   "end_time": "2021-05-16T21:28:57.543092",
   "environment_variables": {},
   "exception": null,
   "input_path": "__notebook__.ipynb",
   "output_path": "__notebook__.ipynb",
   "parameters": {},
   "start_time": "2021-05-16T21:28:49.025441",
   "version": "2.3.2"
  }
 },
 "nbformat": 4,
 "nbformat_minor": 5
}
